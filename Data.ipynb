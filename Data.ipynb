{
 "cells": [
  {
   "cell_type": "code",
   "execution_count": 102,
   "metadata": {},
   "outputs": [],
   "source": [
    "import numpy as np\n",
    "import pandas as pd\n",
    "from matplotlib import pyplot as plt"
   ]
  },
  {
   "cell_type": "code",
   "execution_count": 105,
   "metadata": {
    "scrolled": false
   },
   "outputs": [
    {
     "name": "stdout",
     "output_type": "stream",
     "text": [
      "R           float64\n",
      "US10YR      float64\n",
      "EPS         float64\n",
      "PER         float64\n",
      "OPEN        float64\n",
      "             ...   \n",
      "DEBT        float64\n",
      "DIVIDEND    float64\n",
      "RETURN      float64\n",
      "STOCKS      float64\n",
      "WAR         float64\n",
      "Length: 67, dtype: object\n"
     ]
    },
    {
     "data": {
      "text/html": [
       "<div>\n",
       "<style scoped>\n",
       "    .dataframe tbody tr th:only-of-type {\n",
       "        vertical-align: middle;\n",
       "    }\n",
       "\n",
       "    .dataframe tbody tr th {\n",
       "        vertical-align: top;\n",
       "    }\n",
       "\n",
       "    .dataframe thead th {\n",
       "        text-align: right;\n",
       "    }\n",
       "</style>\n",
       "<table border=\"1\" class=\"dataframe\">\n",
       "  <thead>\n",
       "    <tr style=\"text-align: right;\">\n",
       "      <th></th>\n",
       "      <th>R</th>\n",
       "      <th>US10YR</th>\n",
       "      <th>EPS</th>\n",
       "      <th>PER</th>\n",
       "      <th>OPEN</th>\n",
       "      <th>HIGH</th>\n",
       "      <th>LOW</th>\n",
       "      <th>CLOSE</th>\n",
       "      <th>BDIY</th>\n",
       "      <th>VIX</th>\n",
       "      <th>...</th>\n",
       "      <th>MYSTERYVAR3</th>\n",
       "      <th>TOM</th>\n",
       "      <th>HULBERTSENTIMENT</th>\n",
       "      <th>BUBBLE</th>\n",
       "      <th>CASH</th>\n",
       "      <th>DEBT</th>\n",
       "      <th>DIVIDEND</th>\n",
       "      <th>RETURN</th>\n",
       "      <th>STOCKS</th>\n",
       "      <th>WAR</th>\n",
       "    </tr>\n",
       "  </thead>\n",
       "  <tbody>\n",
       "    <tr>\n",
       "      <th>7037</th>\n",
       "      <td>-0.001039</td>\n",
       "      <td>10.652</td>\n",
       "      <td>14.47</td>\n",
       "      <td>7.680719</td>\n",
       "      <td>111.14</td>\n",
       "      <td>111.14</td>\n",
       "      <td>111.14</td>\n",
       "      <td>111.14</td>\n",
       "      <td>NaN</td>\n",
       "      <td>NaN</td>\n",
       "      <td>...</td>\n",
       "      <td>20.719767</td>\n",
       "      <td>0</td>\n",
       "      <td>NaN</td>\n",
       "      <td>NaN</td>\n",
       "      <td>NaN</td>\n",
       "      <td>NaN</td>\n",
       "      <td>NaN</td>\n",
       "      <td>NaN</td>\n",
       "      <td>NaN</td>\n",
       "      <td>NaN</td>\n",
       "    </tr>\n",
       "    <tr>\n",
       "      <th>7038</th>\n",
       "      <td>-0.003390</td>\n",
       "      <td>10.652</td>\n",
       "      <td>14.47</td>\n",
       "      <td>7.674499</td>\n",
       "      <td>111.05</td>\n",
       "      <td>111.05</td>\n",
       "      <td>111.05</td>\n",
       "      <td>111.05</td>\n",
       "      <td>NaN</td>\n",
       "      <td>NaN</td>\n",
       "      <td>...</td>\n",
       "      <td>20.758427</td>\n",
       "      <td>0</td>\n",
       "      <td>NaN</td>\n",
       "      <td>NaN</td>\n",
       "      <td>NaN</td>\n",
       "      <td>NaN</td>\n",
       "      <td>NaN</td>\n",
       "      <td>NaN</td>\n",
       "      <td>NaN</td>\n",
       "      <td>NaN</td>\n",
       "    </tr>\n",
       "    <tr>\n",
       "      <th>7039</th>\n",
       "      <td>0.003099</td>\n",
       "      <td>10.712</td>\n",
       "      <td>14.47</td>\n",
       "      <td>7.650311</td>\n",
       "      <td>110.70</td>\n",
       "      <td>110.70</td>\n",
       "      <td>110.70</td>\n",
       "      <td>110.70</td>\n",
       "      <td>NaN</td>\n",
       "      <td>NaN</td>\n",
       "      <td>...</td>\n",
       "      <td>20.812242</td>\n",
       "      <td>0</td>\n",
       "      <td>NaN</td>\n",
       "      <td>NaN</td>\n",
       "      <td>NaN</td>\n",
       "      <td>NaN</td>\n",
       "      <td>NaN</td>\n",
       "      <td>NaN</td>\n",
       "      <td>NaN</td>\n",
       "      <td>NaN</td>\n",
       "    </tr>\n",
       "    <tr>\n",
       "      <th>7040</th>\n",
       "      <td>0.008985</td>\n",
       "      <td>10.822</td>\n",
       "      <td>14.47</td>\n",
       "      <td>7.675881</td>\n",
       "      <td>111.07</td>\n",
       "      <td>111.07</td>\n",
       "      <td>111.07</td>\n",
       "      <td>111.07</td>\n",
       "      <td>NaN</td>\n",
       "      <td>NaN</td>\n",
       "      <td>...</td>\n",
       "      <td>20.749472</td>\n",
       "      <td>0</td>\n",
       "      <td>NaN</td>\n",
       "      <td>NaN</td>\n",
       "      <td>NaN</td>\n",
       "      <td>NaN</td>\n",
       "      <td>NaN</td>\n",
       "      <td>NaN</td>\n",
       "      <td>NaN</td>\n",
       "      <td>NaN</td>\n",
       "    </tr>\n",
       "    <tr>\n",
       "      <th>7041</th>\n",
       "      <td>-0.005519</td>\n",
       "      <td>10.962</td>\n",
       "      <td>14.47</td>\n",
       "      <td>7.747063</td>\n",
       "      <td>112.10</td>\n",
       "      <td>112.10</td>\n",
       "      <td>112.10</td>\n",
       "      <td>112.10</td>\n",
       "      <td>NaN</td>\n",
       "      <td>NaN</td>\n",
       "      <td>...</td>\n",
       "      <td>20.791386</td>\n",
       "      <td>0</td>\n",
       "      <td>NaN</td>\n",
       "      <td>NaN</td>\n",
       "      <td>NaN</td>\n",
       "      <td>NaN</td>\n",
       "      <td>NaN</td>\n",
       "      <td>NaN</td>\n",
       "      <td>NaN</td>\n",
       "      <td>NaN</td>\n",
       "    </tr>\n",
       "  </tbody>\n",
       "</table>\n",
       "<p>5 rows × 67 columns</p>\n",
       "</div>"
      ],
      "text/plain": [
       "             R  US10YR    EPS       PER    OPEN    HIGH     LOW   CLOSE  BDIY  \\\n",
       "7037 -0.001039  10.652  14.47  7.680719  111.14  111.14  111.14  111.14   NaN   \n",
       "7038 -0.003390  10.652  14.47  7.674499  111.05  111.05  111.05  111.05   NaN   \n",
       "7039  0.003099  10.712  14.47  7.650311  110.70  110.70  110.70  110.70   NaN   \n",
       "7040  0.008985  10.822  14.47  7.675881  111.07  111.07  111.07  111.07   NaN   \n",
       "7041 -0.005519  10.962  14.47  7.747063  112.10  112.10  112.10  112.10   NaN   \n",
       "\n",
       "      VIX  ...  MYSTERYVAR3  TOM  HULBERTSENTIMENT  BUBBLE  CASH  DEBT  \\\n",
       "7037  NaN  ...    20.719767    0               NaN     NaN   NaN   NaN   \n",
       "7038  NaN  ...    20.758427    0               NaN     NaN   NaN   NaN   \n",
       "7039  NaN  ...    20.812242    0               NaN     NaN   NaN   NaN   \n",
       "7040  NaN  ...    20.749472    0               NaN     NaN   NaN   NaN   \n",
       "7041  NaN  ...    20.791386    0               NaN     NaN   NaN   NaN   \n",
       "\n",
       "      DIVIDEND  RETURN  STOCKS  WAR  \n",
       "7037       NaN     NaN     NaN  NaN  \n",
       "7038       NaN     NaN     NaN  NaN  \n",
       "7039       NaN     NaN     NaN  NaN  \n",
       "7040       NaN     NaN     NaN  NaN  \n",
       "7041       NaN     NaN     NaN  NaN  \n",
       "\n",
       "[5 rows x 67 columns]"
      ]
     },
     "execution_count": 105,
     "metadata": {},
     "output_type": "execute_result"
    }
   ],
   "source": [
    "df = pd.DataFrame(pd.read_csv('ucsbdata.csv'))\n",
    "df = df[df[\"R\"].notna()]\n",
    "df.fillna(0)\n",
    "del df[\"Index\"]\n",
    "print(df.dtypes)\n",
    "\n",
    "dfnorm = (df - df.mean())/df.std()\n",
    "df.head()"
   ]
  },
  {
   "cell_type": "code",
   "execution_count": 100,
   "metadata": {},
   "outputs": [
    {
     "data": {
      "image/png": "[encoded data removed]",
      "text/plain": [
       "<Figure size 432x288 with 1 Axes>"
      ]
     },
     "metadata": {
      "needs_background": "light"
     },
     "output_type": "display_data"
    }
   ],
   "source": [
    "plt.figure()\n",
    "plt.plot(df[\"OPEN\"])\n",
    "plt.plot(df[\"CLOSE\"])\n",
    "plt.plot(df[\"HIGH\"])\n",
    "plt.plot(df[\"LOW\"])\n",
    "plt.title(\"S&P500 Over 50 years\")\n",
    "plt.xlabel(\"days\")\n",
    "plt.ylabel(\"price in us dollars\")\n",
    "plt.legend(['Open','High','Low','Close'], loc='upper left')\n",
    "plt.show()"
   ]
  },
  {
   "cell_type": "code",
   "execution_count": 101,
   "metadata": {},
   "outputs": [
    {
     "data": {
      "text/plain": [
       "[<matplotlib.lines.Line2D at 0x125f00278>]"
      ]
     },
     "execution_count": 101,
     "metadata": {},
     "output_type": "execute_result"
    },
    {
     "data": {
      "image/png": "[encoded data removed]",
      "text/plain": [
       "<Figure size 432x288 with 1 Axes>"
      ]
     },
     "metadata": {
      "needs_background": "light"
     },
     "output_type": "display_data"
    }
   ],
   "source": [
    "plt.figure()\n",
    "#plt.plot(df[\"MYSTERYVAR1\"])\n",
    "#plt.plot(df[\"MYSTERYVAR2\"])\n",
    "plt.plot(df[\"MYSTERYVAR3\"])\n",
    "\n",
    "plt.plot(df[\"ADVDECL\"])\n"
   ]
  },
  {
   "cell_type": "code",
   "execution_count": 59,
   "metadata": {},
   "outputs": [
    {
     "data": {
      "text/plain": [
       "(16863,)"
      ]
     },
     "execution_count": 59,
     "metadata": {},
     "output_type": "execute_result"
    }
   ],
   "source": [
    "actual_R = np.array(df[\"R\"])\n",
    "actual_R.shape"
   ]
  },
  {
   "cell_type": "code",
   "execution_count": 62,
   "metadata": {},
   "outputs": [
    {
     "data": {
      "text/plain": [
       "0.0009470355030509971"
      ]
     },
     "execution_count": 62,
     "metadata": {},
     "output_type": "execute_result"
    }
   ],
   "source": []
  },
  {
   "cell_type": "code",
   "execution_count": 65,
   "metadata": {},
   "outputs": [],
   "source": []
  },
  {
   "cell_type": "code",
   "execution_count": null,
   "metadata": {},
   "outputs": [],
   "source": []
  }
 ],
 "metadata": {
  "kernelspec": {
   "display_name": "Python 3",
   "language": "python",
   "name": "python3"
  },
  "language_info": {
   "codemirror_mode": {
    "name": "ipython",
    "version": 3
   },
   "file_extension": ".py",
   "mimetype": "text/x-python",
   "name": "python",
   "nbconvert_exporter": "python",
   "pygments_lexer": "ipython3",
   "version": "3.6.10"
  }
 },
 "nbformat": 4,
 "nbformat_minor": 2
}
